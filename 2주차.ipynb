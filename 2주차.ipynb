{
 "cells": [
  {
   "cell_type": "markdown",
   "metadata": {},
   "source": [
    "### 2178 - 미로탐색"
   ]
  },
  {
   "cell_type": "code",
   "execution_count": null,
   "metadata": {},
   "outputs": [],
   "source": [
    "from collections import deque\n",
    "\n",
    "MAX_N = 104\n",
    "dy = [-1, 0, 1, 0]\n",
    "dx = [0, 1, 0, -1]\n",
    "\n",
    "n, m = map(int, input().split())\n",
    "a = [list(map(int, input())) for _ in range(n)]\n",
    "visited = [[0] * MAX_N for _ in range(MAX_N)]\n",
    "\n",
    "q = deque()\n",
    "visited[0][0] = 1\n",
    "q.append((0, 0))\n",
    "\n",
    "while q:\n",
    "    y, x = q.popleft()\n",
    "    for i in range(4):\n",
    "        ny = y + dy[i]\n",
    "        nx = x + dx[i]\n",
    "        if ny < 0 or ny >= n or nx < 0 or nx >= m or a[ny][nx] == 0:\n",
    "            continue\n",
    "        if visited[ny][nx]:\n",
    "            continue\n",
    "        visited[ny][nx] = visited[y][x] + 1\n",
    "        q.append((ny, nx))\n",
    "\n",
    "print(visited[n - 1][m - 1])"
   ]
  },
  {
   "cell_type": "markdown",
   "metadata": {},
   "source": [
    "### 1012 - 유기농 배추"
   ]
  },
  {
   "cell_type": "code",
   "execution_count": null,
   "metadata": {},
   "outputs": [],
   "source": [
    "import sys\n",
    "sys.setrecursionlimit(10**6)\n",
    "\n",
    "dy = [-1, 0, 1, 0]\n",
    "dx = [0, 1, 0, -1]\n",
    "\n",
    "def dfs(y, x):\n",
    "    visited[y][x] = True\n",
    "    for i in range(4):\n",
    "        ny = y + dy[i]\n",
    "        nx = x + dx[i]\n",
    "        if ny < 0 or nx < 0 or ny >= n or nx >= m:\n",
    "            continue\n",
    "        if a[ny][nx] == 1 and not visited[ny][nx]:\n",
    "            dfs(ny, nx)\n",
    "\n",
    "t = int(input())\n",
    "for _ in range(t):\n",
    "    m, n, k = map(int, input().split())\n",
    "    a = [[0] * 51 for _ in range(51)]\n",
    "    visited = [[False] * 51 for _ in range(51)]\n",
    "    ret = 0\n",
    "\n",
    "    for _ in range(k):\n",
    "        x, y = map(int, input().split())\n",
    "        a[y][x] = 1\n",
    "\n",
    "    for i in range(n):\n",
    "        for j in range(m):\n",
    "            if a[i][j] == 1 and not visited[i][j]:\n",
    "                dfs(i, j)\n",
    "                ret += 1\n",
    "\n",
    "    print(ret)"
   ]
  },
  {
   "cell_type": "markdown",
   "metadata": {},
   "source": [
    "### 2468번 - 안전 영역"
   ]
  },
  {
   "cell_type": "code",
   "execution_count": null,
   "metadata": {},
   "outputs": [],
   "source": [
    "import sys\n",
    "\n",
    "sys.setrecursionlimit(10**6)\n",
    "\n",
    "a = [[0] * 101 for _ in range(101)]\n",
    "visited = [[0] * 101 for _ in range(101)]\n",
    "n = 0\n",
    "ret = 1\n",
    "\n",
    "dy = [-1, 0, 1, 0]\n",
    "dx = [0, 1, 0, -1]\n",
    "\n",
    "def dfs(y, x, d):\n",
    "    visited[y][x] = 1\n",
    "    for i in range(4):\n",
    "        ny = y + dy[i]\n",
    "        nx = x + dx[i]\n",
    "        if ny < 0 or nx < 0 or ny >= n or nx >= n:\n",
    "            continue\n",
    "        if not visited[ny][nx] and a[ny][nx] > d:\n",
    "            dfs(ny, nx, d)\n",
    "\n",
    "n = int(input())\n",
    "\n",
    "for i in range(n):\n",
    "    a[i][:n] = list(map(int, input().split()))\n",
    "\n",
    "for d in range(1, 101):\n",
    "    visited = [[0] * 101 for _ in range(101)]\n",
    "    cnt = 0\n",
    "    for i in range(n):\n",
    "        for j in range(n):\n",
    "            if a[i][j] > d and not visited[i][j]:\n",
    "                dfs(i, j, d)\n",
    "                cnt += 1\n",
    "    ret = max(ret, cnt)\n",
    "\n",
    "print(ret)"
   ]
  },
  {
   "cell_type": "markdown",
   "metadata": {},
   "source": [
    "### 2583번 - 영역구하기"
   ]
  },
  {
   "cell_type": "code",
   "execution_count": 17,
   "metadata": {},
   "outputs": [
    {
     "name": "stdout",
     "output_type": "stream",
     "text": [
      "5 7 3\n",
      "[[0, 0, 0, 0, 0, 0, 0], [0, 0, 0, 0, 0, 0, 0], [0, 0, 0, 0, 0, 0, 0], [0, 0, 0, 0, 0, 0, 0], [0, 0, 0, 0, 0, 0, 0]]\n",
      "0 1 0 0 0 0 0\n",
      "1 1 1 1 0 0 0\n",
      "1 1 1 1 0 0 0\n",
      "0 1 0 0 1 1 0\n",
      "0 0 0 0 1 1 0\n"
     ]
    }
   ],
   "source": [
    "###첫째 줄에 M, N, K 빈칸을 사이에 두고 차례로 주어진다.(각 100 이하의 자연수)\n",
    "M, N, K = map(int, input().split())\n",
    "print(M, N, K)\n",
    "#2차원 배열로 넓이 구현하기\n",
    "matrix = [[0]*N for _ in range(M)]\n",
    "print(matrix)\n",
    "\n",
    "###둘째 줄부터 K개의 줄에는 한 줄에 하나씩 직사각형의 왼쪽 아래 꼭짓점의 x,y 좌표와 오른쪽 아래 x,y좌표값이 빈칸을 사이에 두고 차례로 주어진다.\n",
    "for i in range(K):\n",
    "    X1, Y1, X2, Y2 = map(int, input().split())\n",
    "    #입력받은 좌표에 해당하는 정사각형 1로 채우기\n",
    "    for col in range(X1,X2):\n",
    "        for row in range(Y1,Y2):\n",
    "            matrix[row][col] = 1\n",
    "\n",
    "###모눈 종이의 왼쪽 아래 꼭짓점의 좌표는 (0,0)이고, 오른쪽 위 꼭짓점의 좌표는 M,N이다.\n",
    "###입력되는 K개의 직사각형들이 모눈종이 전체를 채우는 경우는 없다.\n",
    "for row in reversed(matrix):\n",
    "    print(' '.join(map(str, row)))\n",
    "\n",
    "#0으로 이루어진 넓이 구하기\n",
    "for row in reversed(matrix):\n",
    "    for i, elm in enumerate(row):\n",
    "        if (matrix[row][i+1] == 1 or matrix[row+1][i] == 1):\n",
    "            break"
   ]
  },
  {
   "cell_type": "markdown",
   "metadata": {},
   "source": [
    "* 0이라는 정점을 만들고\n",
    "* connected component를 구성한다.\n",
    "* 구성한 connected component의 size를 구하면 된다."
   ]
  },
  {
   "cell_type": "code",
   "execution_count": 1,
   "metadata": {},
   "outputs": [
    {
     "name": "stdout",
     "output_type": "stream",
     "text": [
      "2\n",
      "7 21\n"
     ]
    }
   ],
   "source": [
    "#입력, 변수 초기화\n",
    "import sys\n",
    "\n",
    "sys.setrecursionlimit(10**6)\n",
    "\n",
    "m, n, k = map(int, input().split())\n",
    "\n",
    "#2D 리스트 'a'와 'visited' 초기화\n",
    "a = [[0] * 104 for _ in range(104)]\n",
    "visited = [[0] * 104 for _ in range(104)]\n",
    "\n",
    "#방향 벡터와 결과 리스트\n",
    "dy = [-1, 0, 1, 0]\n",
    "dx = [0, 1, 0, -1]\n",
    "ret = []\n",
    "\n",
    "#깊이 우선 탐색 DFS 함수\n",
    "# 1. 현재 위치를 방문 처리 + 인접한 4방향을 확인한다.\n",
    "# 2. 유효한 위치이고 방문하지 않았으며, 직사각형이 아닌 경우 재귀적으로 탐색한다.\n",
    "# 3. 연결된 영역의 크기를 반환한다.\n",
    "def dfs(y, x):\n",
    "    visited[y][x] = 1\n",
    "    ret = 1\n",
    "    for i in range(4):\n",
    "        ny = y + dy[i]\n",
    "        nx = x + dx[i]\n",
    "        if ny < 0 or ny >= m or nx < 0 or nx >= n or visited[ny][nx] == 1:\n",
    "            continue\n",
    "        if a[ny][nx] == 1:\n",
    "            continue\n",
    "        ret += dfs(ny, nx)\n",
    "    return ret\n",
    "\n",
    "# k개의 직사각형 정보를 입력받아 'a'리스트에 표시한다.\n",
    "for _ in range(k):\n",
    "    x1, y1, x2, y2 = map(int, input().split())\n",
    "    for x in range(x1, x2):\n",
    "        for y in range(y1, y2):\n",
    "            a[y][x] = 1\n",
    "\n",
    "# 모든 위치를 순회하며 직사각형이 아니고 방문하지 않은 위치에서 DFS를 시작한다.\n",
    "# 각 연결된 영역의 크기를 'ret' 리스트에 추가한다.\n",
    "for i in range(m):\n",
    "    for j in range(n):\n",
    "        if a[i][j] != 1 and visited[i][j] == 0:\n",
    "            ret.append(dfs(i, j))\n",
    "\n",
    "\n",
    "# 결과 출력\n",
    "ret.sort()\n",
    "print(len(ret))\n",
    "print(*ret)"
   ]
  },
  {
   "cell_type": "markdown",
   "metadata": {},
   "source": [
    "### 1992번 - 쿼드트리\n"
   ]
  },
  {
   "cell_type": "markdown",
   "metadata": {},
   "source": [
    "2D 이미지를 재귀적으로 4등분하여 각 부분이 모두 같은 값을 가지고 있으면 그 값으로 압축하고, 그렇지 않으면 괄호로 묶어 4개의 부분으로 나누어 표현합니다.\n",
    "\n"
   ]
  },
  {
   "cell_type": "code",
   "execution_count": null,
   "metadata": {},
   "outputs": [],
   "source": [
    "def quard(y, x, size):\n",
    "    if size == 1:\n",
    "        return a[y][x]\n",
    "    \n",
    "    b = a[y][x]\n",
    "    for i in range(y, y + size):\n",
    "        for j in range(x, x + size):\n",
    "            if b != a[i][j]:\n",
    "                return (\n",
    "                    '(' +\n",
    "                    quard(y, x, size // 2) +\n",
    "                    quard(y, x + size // 2, size // 2) +\n",
    "                    quard(y + size // 2, x, size // 2) +\n",
    "                    quard(y + size // 2, x + size // 2, size // 2) +\n",
    "                    ')'\n",
    "                )\n",
    "    \n",
    "    return a[y][x]\n",
    "\n",
    "n = int(input())\n",
    "a = [list(input().strip()) for _ in range(n)]\n",
    "\n",
    "print(quard(0, 0, n))"
   ]
  },
  {
   "cell_type": "markdown",
   "metadata": {},
   "source": [
    "### 2828번 - 사과담기게임"
   ]
  },
  {
   "cell_type": "markdown",
   "metadata": {},
   "source": [
    "* 일직선상에 놓인 스크린에 사과가 떨어집니다.\n",
    "* 바구니를 움직여 사과를 받아야 합니다.\n",
    "* 바구니는 m칸을 차지하며, 전체 스크린은 n칸입니다.\n",
    "* 사과가 떨어질 때마다 바구니를 최소한으로 움직여 사과를 받아야 합니다.\n",
    "* 코드는 바구니를 움직인 총 거리를 계산합니다."
   ]
  },
  {
   "cell_type": "code",
   "execution_count": null,
   "metadata": {},
   "outputs": [],
   "source": [
    "n, m, j = map(int, input().split())\n",
    "l = 1\n",
    "ret = 0\n",
    "\n",
    "for _ in range(j):\n",
    "    r = l + m - 1\n",
    "    temp = int(input())\n",
    "    if l <= temp <= r:\n",
    "        continue\n",
    "    else:\n",
    "        if temp < l:\n",
    "            ret += (l - temp)\n",
    "            l = temp\n",
    "        else:\n",
    "            ret += (temp - r)\n",
    "            l += (temp - r)\n",
    "\n",
    "print(ret)"
   ]
  }
 ],
 "metadata": {
  "kernelspec": {
   "display_name": "Python 3",
   "language": "python",
   "name": "python3"
  },
  "language_info": {
   "codemirror_mode": {
    "name": "ipython",
    "version": 3
   },
   "file_extension": ".py",
   "mimetype": "text/x-python",
   "name": "python",
   "nbconvert_exporter": "python",
   "pygments_lexer": "ipython3",
   "version": "3.8.8"
  }
 },
 "nbformat": 4,
 "nbformat_minor": 2
}
